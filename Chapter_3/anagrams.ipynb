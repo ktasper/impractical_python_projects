{
 "cells": [
  {
   "cell_type": "markdown",
   "id": "feb6fffa-5972-4450-a626-e95483419330",
   "metadata": {},
   "source": [
    "A anagram is a word formed by rearranging the letters of another word\n",
    "IE:\n",
    "`Elivs` = `evils, lives, veils`\n",
    "\n",
    "# Project 4: Finding Single-Word Anagrams"
   ]
  },
  {
   "cell_type": "markdown",
   "id": "4df33116-6241-404f-bc3a-f8c6c0fa2082",
   "metadata": {},
   "source": [
    "## The Objective\r\n",
    "Use Python and a dictionary file to find all the single-word anagrams for a given English\r\n",
    "word or single name. You can read instructions for finding and loading dictionary files at\r\n",
    "the start of Chapter 2."
   ]
  },
  {
   "cell_type": "code",
   "execution_count": 2,
   "id": "b4036226-9e00-4892-a41c-8c74793d8e11",
   "metadata": {},
   "outputs": [
    {
     "data": {
      "text/plain": [
       "['s', 't', 'o', 'p']"
      ]
     },
     "execution_count": 2,
     "metadata": {},
     "output_type": "execute_result"
    }
   ],
   "source": [
    "word = list('stop')\n",
    "word"
   ]
  },
  {
   "cell_type": "code",
   "execution_count": 3,
   "id": "ecae3290-bc2d-4548-865b-ab5ccad798e2",
   "metadata": {},
   "outputs": [
    {
     "data": {
      "text/plain": [
       "['p', 'o', 't', 's']"
      ]
     },
     "execution_count": 3,
     "metadata": {},
     "output_type": "execute_result"
    }
   ],
   "source": [
    "anagram = list('pots')\n",
    "anagram"
   ]
  },
  {
   "cell_type": "code",
   "execution_count": 4,
   "id": "3206b615-2883-4571-aeed-dd9d3d579eb5",
   "metadata": {},
   "outputs": [
    {
     "data": {
      "text/plain": [
       "True"
      ]
     },
     "execution_count": 4,
     "metadata": {},
     "output_type": "execute_result"
    }
   ],
   "source": [
    "sorted(anagram) == sorted(word)"
   ]
  },
  {
   "cell_type": "markdown",
   "id": "9d88af79-1d10-44bb-b8db-3e81c01921ba",
   "metadata": {},
   "source": [
    "## Pseudocode\n",
    "```\n",
    "Load digital dictionary file as a list of words\n",
    "Accept a word from user\n",
    "Create an empty list to hold anagrams\n",
    "Sort the user-word\n",
    "Loop through each word in the word list:\n",
    "Sort the word\n",
    "if word sorted is equal to user-word sorted:\n",
    "Append word to anagrams list\n",
    "Print anagrams list\n",
    "```"
   ]
  },
  {
   "cell_type": "code",
   "execution_count": 18,
   "id": "54a504a8-a47c-410c-881c-db4465c21f3d",
   "metadata": {},
   "outputs": [
    {
     "name": "stdin",
     "output_type": "stream",
     "text": [
      "Input name:  stop\n"
     ]
    },
    {
     "data": {
      "text/plain": [
       "['opts', 'spot', 'tops', 'post', 'stop', 'pots']"
      ]
     },
     "execution_count": 18,
     "metadata": {},
     "output_type": "execute_result"
    }
   ],
   "source": [
    "import load_dict\n",
    "word_list = load_dict.load('words.txt')\n",
    "word_list = set(word_list)\n",
    "\n",
    "anagram_list = []\n",
    "\n",
    "input_name = input(\"Input name: \")\n",
    "name = input_name.lower()\n",
    "\n",
    "# Sort name and find anagrams\n",
    "name = sorted(name)\n",
    "for word in word_list:\n",
    "    if name == sorted(word):\n",
    "        anagram_list.append(word)\n",
    "anagram_list"
   ]
  },
  {
   "cell_type": "markdown",
   "id": "f5080b43-14d8-4584-8b63-c361d5efdeb0",
   "metadata": {},
   "source": [
    "# Project #5: Finding Phrase Anagrams"
   ]
  },
  {
   "cell_type": "markdown",
   "id": "1430f0d4-9209-4752-9f62-8258bd502918",
   "metadata": {},
   "source": [
    "Write a Python program that lets a user interactively build an anagram phrase from the\n",
    "letters in their name."
   ]
  },
  {
   "cell_type": "markdown",
   "id": "74cb5656-29c1-4a7e-88db-92149aad501b",
   "metadata": {},
   "source": [
    "```\n",
    "Load a dictionary file\r\n",
    "Accept a name from user\r\n",
    "Set limit = length of name\r\n",
    "Start empty list to hold anagram phrase\r\n",
    "While length of phrase < limit:\r\n",
    "Generate list of dictionary words that fit in name\r\n",
    "Present words to user\r\n",
    "Present remaining letters to user\r\n",
    "Present current phrase to user\r\n",
    "Ask user to input word or start over\r\n",
    "42 Chapter 3\r\n",
    "If user input can be made from remaining letters:\r\n",
    "Accept choice of new word or words from user\r\n",
    "Remove letters in choice from letters in name\r\n",
    "Return choice and remaining letters in name\r\n",
    "If choice is not a valid selection:\r\n",
    "Ask user for new choice or let user start over\r\n",
    "Add choice to phrase and show to user\r\n",
    "Generate new list of words and repeat process\r\n",
    "When phrase length equals limit value:\r\n",
    "Display final phrase\r\n",
    "Ask user to start over or to exit\n",
    "```"
   ]
  },
  {
   "cell_type": "code",
   "execution_count": 6,
   "id": "05254917-093a-4e9d-8b1a-c833dec61480",
   "metadata": {},
   "outputs": [
    {
     "name": "stdin",
     "output_type": "stream",
     "text": [
      "Input name:  ada\n"
     ]
    }
   ],
   "source": [
    "import load_dict\n",
    "\n",
    "\n",
    "\n",
    "def main():\n",
    "    word_list = load_dict.load('words.txt')\n",
    "    word_list = set(word_list)\n",
    "    input_name = input(\"Input name: \")\n",
    "    name = input_name.lower()\n",
    "    angram_phrase = []\n",
    "    limit = len(name)\n",
    "    phrase_len = 0\n",
    "\n",
    "if __name__ == '__main__':\n",
    "    main()"
   ]
  },
  {
   "cell_type": "code",
   "execution_count": null,
   "id": "84719fac-bebf-4f41-95cb-fe9208c49c66",
   "metadata": {},
   "outputs": [],
   "source": []
  }
 ],
 "metadata": {
  "kernelspec": {
   "display_name": "Python 3 (ipykernel)",
   "language": "python",
   "name": "python3"
  },
  "language_info": {
   "codemirror_mode": {
    "name": "ipython",
    "version": 3
   },
   "file_extension": ".py",
   "mimetype": "text/x-python",
   "name": "python",
   "nbconvert_exporter": "python",
   "pygments_lexer": "ipython3",
   "version": "3.9.18"
  }
 },
 "nbformat": 4,
 "nbformat_minor": 5
}
